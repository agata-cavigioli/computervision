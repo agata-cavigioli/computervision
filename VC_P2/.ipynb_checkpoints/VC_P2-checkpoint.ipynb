{
 "cells": [
  {
   "cell_type": "markdown",
   "metadata": {},
   "source": [
    "#Paquetes necesarios"
   ]
  },
  {
   "cell_type": "code",
   "execution_count": 1,
   "metadata": {},
   "outputs": [],
   "source": [
    "import cv2  \n",
    "import numpy as np\n",
    "import matplotlib.pyplot as plt"
   ]
  },
  {
   "cell_type": "markdown",
   "metadata": {},
   "source": [
    "Carga imagen desde archivo y convierte a RGB"
   ]
  },
  {
   "cell_type": "code",
   "execution_count": 15,
   "metadata": {},
   "outputs": [],
   "source": [
    "#Lee imagen de archivo\n",
    "img = cv2.imread('mandril.jpg') \n",
    "#Muestra dimensiones\n",
    "print(img.shape)\n",
    "#Mostramos la original\n",
    "#Eliminamos etiquetas de los ejes\n",
    "plt.figure()\n",
    "plt.axis(\"off\")\n",
    "plt.imshow(img) \n",
    "plt.show()\n",
    "\n",
    "#OpenCV lee las imágenes almacenando en formato BGR, por lo que convertimos para visualizr de forma correcta a RGB\n",
    "img_rgb = cv2.cvtColor(img, cv2.COLOR_BGR2RGB)\n",
    "#Muestra la imagen tras convertir a RGB\n",
    "#Eliminamos etiquetas de los ejes\n",
    "plt.figure()\n",
    "plt.axis(\"off\")\n",
    "plt.imshow(img_rgb) \n",
    "plt.show()"
   ]
  },
  {
   "cell_type": "markdown",
   "metadata": {},
   "source": [
    "Convierte a grises para procesar"
   ]
  },
  {
   "cell_type": "code",
   "execution_count": 3,
   "metadata": {},
   "outputs": [],
   "source": [
    "#Conversión a grises de la original en BGR\n",
    "gris = cv2.cvtColor(img, cv2.COLOR_BGR2GRAY)\n",
    "print(gris.shape)\n",
    "#Muestra, indicando el mapa de color de grises\n",
    "#Eliminamos etiquetas de los ejes\n",
    "plt.figure()\n",
    "plt.axis(\"off\")\n",
    "plt.imshow(gris, cmap='gray') \n",
    "plt.show()\n"
   ]
  },
  {
   "cell_type": "markdown",
   "metadata": {},
   "source": [
    "Canny, detector de bordes multietapa. Tratado en el tema 4"
   ]
  },
  {
   "cell_type": "code",
   "execution_count": 4,
   "metadata": {},
   "outputs": [],
   "source": [
    "#Obtiene contornos con el operador de Canny\n",
    "canny = cv2.Canny(gris, 100, 200)\n",
    "print(canny)\n",
    "#Muestra resultado\n",
    "plt.imshow(canny, cmap='gray') \n",
    "plt.show()\n"
   ]
  },
  {
   "cell_type": "markdown",
   "metadata": {},
   "source": [
    "Definida la imagen de salida de Canny, salida 0 o 255, obtiene el número de píxeles no nulos por columna y visualiza"
   ]
  },
  {
   "cell_type": "code",
   "execution_count": 5,
   "metadata": {},
   "outputs": [],
   "source": [
    "#Si muestras el contenido de la imagen resultado, son valores 0 o 255\n",
    "#print(canny)\n",
    "#Cuenta el número de píxeles blancos (255) por columna\n",
    "#Suma los valores de los pixeles por columna\n",
    "col_counts = cv2.reduce(canny, 0, cv2.REDUCE_SUM, dtype=cv2.CV_32SC1)\n",
    "\n",
    "#Normaliza en base al número de filas y al valor máximo del píxel (255)\n",
    "#El resultado será el número de píxeles blancos por columna\n",
    "cols = col_counts[0] / (255 * canny.shape[1])\n",
    "\n",
    "#Muestra dicha cuenta gráficamente\n",
    "plt.figure()\n",
    "plt.subplot(1, 2, 1)\n",
    "plt.axis(\"off\")\n",
    "plt.title(\"Canny\")\n",
    "plt.imshow(canny, cmap='gray') \n",
    "\n",
    "plt.subplot(1, 2, 2)\n",
    "plt.title(\"Respuesta de Canny\")\n",
    "plt.xlabel(\"Columnas\")\n",
    "plt.ylabel(\"% píxeles\")\n",
    "plt.plot(cols)\n",
    "#Rango en x definido por las columnas\n",
    "plt.xlim([0, canny.shape[0]])"
   ]
  },
  {
   "cell_type": "markdown",
   "metadata": {},
   "source": [
    "TAREA: Realiza la cuenta de píxeles blancos por filas, determina el máximo para filas y columnas (uno para cada) y muestra el número de valores que superan en cada caso 0.95*máximo."
   ]
  },
  {
   "cell_type": "code",
   "execution_count": 6,
   "metadata": {},
   "outputs": [],
   "source": [
    "row_counts = cv2.reduce(canny, 1, cv2.REDUCE_SUM, dtype=cv2.CV_32SC1)\n",
    "#Normaliza en base al número de filas y al valor máximo del píxel (255)\n",
    "#El resultado será el número de píxeles blancos por columna\n",
    "#print(col_counts[0]/ (255 * canny.shape[0]))\n",
    "rows = row_counts / (255 * canny.shape[0])\n",
    "rows = rows.T[0]\n",
    "\n",
    "#Muestra dicha cuenta gráficamente\n",
    "plt.figure()\n",
    "plt.subplot(1, 2, 1)\n",
    "plt.axis(\"off\")\n",
    "plt.title(\"Canny\")\n",
    "plt.imshow(canny, cmap='gray') \n",
    "\n",
    "plt.subplot(1, 2, 2)\n",
    "plt.title(\"Respuesta de Canny\")\n",
    "plt.xlabel(\"Filas\")\n",
    "plt.ylabel(\"% píxeles\")\n",
    "plt.plot(rows)\n",
    "#Rango en x definido por las columnas\n",
    "plt.xlim([0, canny.shape[1]])\n",
    "\n",
    "\n",
    "def find_largest(arr,threshold):    \n",
    "    max_value = 0 \n",
    "    max_index = 0       \n",
    "    \n",
    "    for index, value in enumerate(arr):\n",
    "        if value > max_value:\n",
    "            max_value = value\n",
    "            max_index = index\n",
    "            \n",
    "    print(f\"The largest value is {max_value} at index {max_index}\")\n",
    "    big_ones = -1\n",
    "    for index, value in enumerate(arr):\n",
    "        if value > max_value*threshold:\n",
    "            big_ones += 1\n",
    "    print(f\"Have percentage of white greater than {threshold} * the highest value: {big_ones}\")\n",
    "    print('\\n')\n",
    "    \n",
    "    return max_value, max_index\n",
    "\n",
    "\n",
    "threshold = 0.50\n",
    "print('COLUMNS')\n",
    "max_col, max_icol = find_largest(cols,threshold)\n",
    "print('ROWS')\n",
    "max_rows, max_rows = find_largest(rows,threshold)\n",
    "\n"
   ]
  },
  {
   "cell_type": "markdown",
   "metadata": {},
   "source": [
    "Sobel. Cuando hay un borde, el valor de intensidad de los píxeles cercanos cambia de forma notable, calcular las derivadas proporciona una evidencia de dicho cambio. El operador de Sobel aproximar el cálculo de la derivada aplicando un kernel de tamaño impar basado en el patrón [1 2 1]"
   ]
  },
  {
   "cell_type": "code",
   "execution_count": 7,
   "metadata": {},
   "outputs": [],
   "source": [
    "# Gaussiana para suavizar la imagen original\n",
    "ggris = cv2.GaussianBlur(gris, (3, 3), 0)\n",
    "\n",
    "#Calcula en ambas direcciones (horizontal y vertical)\n",
    "sobelx = cv2.Sobel(ggris, cv2.CV_64F, 1, 0)  # x\n",
    "sobely = cv2.Sobel(ggris, cv2.CV_64F, 0, 1)  # y\n",
    "#Combina ambos resultados\n",
    "sobel = cv2.add(sobelx, sobely)\n",
    "\n",
    "#Muestra ambos resultados\n",
    "plt.figure()\n",
    "plt.subplot(1, 3, 1)\n",
    "plt.axis(\"off\")\n",
    "plt.title('Verticales')\n",
    "#Verticales\n",
    "#Para visualizar convierte a escala manejable en una imagen de grises\n",
    "plt.imshow(cv2.convertScaleAbs(sobelx), cmap='gray') \n",
    "#plt.imshow(sobelx, cmap='gray') #Sin convertir escala\n",
    "\n",
    "plt.subplot(1, 3, 2)\n",
    "plt.axis(\"off\")\n",
    "plt.title('Horizontales')\n",
    "#Horizontales\n",
    "#Para visualizar convierte a escala manejable en una imagen de grises\n",
    "plt.imshow(cv2.convertScaleAbs(sobely), cmap='gray') \n",
    "#plt.imshow(sobelx, cmap='gray') #Sin convertir escala\n",
    "\n",
    "plt.subplot(1, 3, 3)\n",
    "plt.axis(\"off\")\n",
    "plt.title('Combinada')\n",
    "#Para visualizar convierte a escala manejable en una imagen de grises\n",
    "#plt.imshow(cv2.convertScaleAbs(sobel), cmap='gray') \n",
    "plt.imshow(sobel, cmap='gray') #Sin convertir escala\n",
    "plt.show()"
   ]
  },
  {
   "cell_type": "markdown",
   "metadata": {},
   "source": [
    "TAREA: Elige otra imagen, muestra el contenido de alguna de las imágenes resultado de Sobel antes y después de ajustar la escala"
   ]
  },
  {
   "cell_type": "code",
   "execution_count": 8,
   "metadata": {},
   "outputs": [],
   "source": [
    "img1 = cv2.imread('cats.png') \n",
    "#ing = cv2.cvtColor(img1, cv2.COLOR_BGR2RGB)\n",
    "gris = cv2.cvtColor(img1, cv2.COLOR_BGR2GRAY)\n",
    "plt.figure()\n",
    "plt.axis(\"off\")\n",
    "plt.imshow(gris, cmap='gray') \n",
    "plt.show()\n",
    "\n",
    "# Gaussiana para suavizar la imagen original\n",
    "ggris = cv2.GaussianBlur(gris, (3, 3), 0)\n",
    "\n",
    "#Calcula en ambas direcciones (horizontal y vertical)\n",
    "sobelx = cv2.Sobel(ggris, cv2.CV_64F, 1, 0)  # x\n",
    "sobely = cv2.Sobel(ggris, cv2.CV_64F, 0, 1)  # y\n",
    "sobel = cv2.add(sobelx, sobely)\n",
    "\n",
    "\n",
    "\n",
    "#Sin convertir escala\n",
    "\n",
    "\n",
    "plt.figure()\n",
    "plt.subplot(1, 3, 1)\n",
    "plt.axis(\"off\")\n",
    "plt.title('Verticales')\n",
    "plt.imshow(sobelx, cmap='gray') \n",
    "\n",
    "plt.subplot(1, 3, 2)\n",
    "plt.axis(\"off\")\n",
    "plt.title('Horizontales')\n",
    "plt.imshow(sobelx, cmap='gray') \n",
    "\n",
    "plt.subplot(1, 3, 3)\n",
    "plt.axis(\"off\")\n",
    "plt.title('Combinada')\n",
    "plt.imshow(sobel, cmap='gray') \n",
    "plt.show()\n",
    "#############################################################\n",
    "plt.figure()\n",
    "plt.subplot(1, 3, 1)\n",
    "plt.axis(\"off\")\n",
    "plt.title('Verticales')\n",
    "plt.imshow(cv2.convertScaleAbs(sobelx), cmap='gray') \n",
    "\n",
    "plt.subplot(1, 3, 2)\n",
    "plt.axis(\"off\")\n",
    "plt.title('Horizontales')\n",
    "plt.imshow(cv2.convertScaleAbs(sobely), cmap='gray') \n",
    "\n",
    "plt.subplot(1, 3, 3)\n",
    "plt.axis(\"off\")\n",
    "plt.title('Combinada')\n",
    "plt.imshow(cv2.convertScaleAbs(sobel), cmap='gray') \n",
    "plt.show()"
   ]
  },
  {
   "cell_type": "markdown",
   "metadata": {},
   "source": [
    "Umbralizado de una imagen"
   ]
  },
  {
   "cell_type": "code",
   "execution_count": 9,
   "metadata": {},
   "outputs": [],
   "source": [
    "img = cv2.imread('mandril.jpg') \n",
    "gris = cv2.cvtColor(img, cv2.COLOR_BGR2GRAY)\n",
    "\n",
    "\n",
    "#Define valor umbral\n",
    "valorUmbral = 130 #Prueba otros valores\n",
    "#Obtiene imagen umbralizada para dicho valor definido\n",
    "res, imagenUmbralizada = cv2.threshold(gris, valorUmbral, 255, cv2.THRESH_BINARY)\n",
    "#Muestra resultado\n",
    "plt.imshow(imagenUmbralizada, cmap='gray') #Visualiza con mapa de color gris\n",
    "plt.show()"
   ]
  },
  {
   "cell_type": "markdown",
   "metadata": {},
   "source": [
    "El histograma de una imagen aporta información sobre el valor de umbral a elegir para ciertas situaciones"
   ]
  },
  {
   "cell_type": "code",
   "execution_count": 10,
   "metadata": {},
   "outputs": [],
   "source": [
    "#Cálculo del histograma de una imagen en escala de grises\n",
    "hist = cv2.calcHist([gris], [0], None, [256], [0, 256])\n",
    "\n",
    "plt.figure()\n",
    "plt.axis(\"off\")\n",
    "plt.imshow(gris, cmap='gray')\n",
    "\n",
    "# Histograma sin normalizar\n",
    "plt.figure()\n",
    "plt.subplot(1, 2, 1)\n",
    "plt.title(\"Histograma\")\n",
    "plt.xlabel(\"Bins\")\n",
    "plt.ylabel(\"# píxeles\")\n",
    "plt.plot(hist)\n",
    "plt.xlim([0, 256])\n",
    "\n",
    "#Normaliza el histograma en base al número de píxeles y lo muestra\n",
    "hist /= hist.sum()\n",
    "\n",
    "plt.subplot(1, 2, 2)\n",
    "plt.title(\"Histograma\")\n",
    "plt.xlabel(\"Bins\")\n",
    "plt.ylabel(\"% píxeles\")\n",
    "plt.tight_layout(pad=3.0) #separación entre plots\n",
    "plt.plot(hist)\n",
    "plt.xlim([0, 256])"
   ]
  },
  {
   "cell_type": "markdown",
   "metadata": {},
   "source": [
    "TAREA: Aplica umbralizado a la imagen resultante de Sobel (valores 0 a 255 y convertida a 8 bits por ejemplo sobel8 = np.uint8(sobel)), y posteriormente realiza el conteo por filas y columnas similar al realizado en el ejemplo con la salida de Canny. Calcula los máximos por filas y columnas, y determina las filas y columnas por encima del 0.95*máximo. Remarca con alguna primitiva gráfica dichas filas y columnas sobre la imagen ¿Cómo se comparan los resultados obtenidos a partir de Sobel y Canny?"
   ]
  },
  {
   "cell_type": "code",
   "execution_count": 11,
   "metadata": {},
   "outputs": [],
   "source": [
    "ggris = cv2.GaussianBlur(gris, (3, 3), 0)\n",
    "\n",
    "sobelx = cv2.Sobel(ggris, cv2.CV_64F, 1, 0)  # x\n",
    "sobely = cv2.Sobel(ggris, cv2.CV_64F, 0, 1)  # y\n",
    "sobel = cv2.add(sobelx, sobely)\n",
    "\n",
    "\n",
    "plt.axis(\"off\")\n",
    "plt.title('Combinada')\n",
    "plt.imshow(cv2.convertScaleAbs(sobel), cmap='gray') \n",
    "plt.show()\n",
    "\n",
    "####################\n",
    "\n",
    "plt.subplot(2, 2, 1)\n",
    "plt.title(\"Histograma de canny por columnas\")\n",
    "plt.xlabel(\"Columnas\")\n",
    "plt.ylabel(\"% píxeles\")\n",
    "plt.plot(cols)\n",
    "#Rango en x definido por las columnas\n",
    "plt.xlim([0, canny.shape[0]])\n",
    "\n",
    "plt.subplot(2, 2, 2)\n",
    "plt.title(\"Histograma de canny por filas\")\n",
    "plt.xlabel(\"Filas\")\n",
    "plt.ylabel(\"% píxeles\")\n",
    "plt.plot(rows)\n",
    "#Rango en x definido por las columnas\n",
    "plt.xlim([0, canny.shape[1]])\n",
    "########################\n",
    "\n",
    "col_counts_s = cv2.reduce(cv2.convertScaleAbs(sobel), 0, cv2.REDUCE_SUM, dtype=cv2.CV_32SC1)\n",
    "cols_s = col_counts_s[0] / (255 * sobel.shape[1]) \n",
    "\n",
    "plt.subplot(2, 2, 3)\n",
    "plt.title(\"Histograma de sobel por columnas\")\n",
    "plt.xlabel(\"Columnas\")\n",
    "plt.ylabel(\"% píxeles\")\n",
    "plt.plot(cols_s)\n",
    "#Rango en x definido por las columnas\n",
    "plt.xlim([0, sobel.shape[0]])\n",
    "\n",
    "row_counts_s = cv2.reduce(cv2.convertScaleAbs(sobel), 1, cv2.REDUCE_SUM, dtype=cv2.CV_32SC1)\n",
    "rows_s = row_counts_s / (255 * cv2.convertScaleAbs(sobel).shape[0])\n",
    "rows_s = rows_s.T[0]\n",
    "\n",
    "plt.subplot(2, 2, 4)\n",
    "plt.title(\"Histograma de sobel por filas\")\n",
    "plt.xlabel(\"Filas\")\n",
    "plt.ylabel(\"% píxeles\")\n",
    "plt.plot(rows_s)\n",
    "#Rango en x definido por las columnas\n",
    "plt.xlim([0, sobel.shape[1]])\n",
    "\n",
    "#######################################\n",
    "threshold = 0.95\n",
    "print('COLUMNS')\n",
    "max_col, max_icol = find_largest(cols,threshold)\n",
    "print('ROWS')\n",
    "max_rows, max_rows = find_largest(rows,threshold)\n",
    "#######################################\n",
    "\n",
    "threshold = 0.95\n",
    "print('COLUMNS')\n",
    "max_col_s, max_icol_s = find_largest(cols_s,threshold)\n",
    "print('ROWS')\n",
    "max_rows_s, max_rows_s = find_largest(rows_s,threshold)"
   ]
  },
  {
   "cell_type": "markdown",
   "metadata": {},
   "source": [
    "Diferencia de imágenes"
   ]
  },
  {
   "cell_type": "code",
   "execution_count": 12,
   "metadata": {},
   "outputs": [],
   "source": [
    "#Calcula la diferencia entre dos imágenes\n",
    "#Utiliza la imagen original y la obtenida tras aplicar la gaussiana\n",
    "dif = cv2.absdiff(gris, ggris)\n",
    "\n",
    "#Visualiza\n",
    "plt.figure()\n",
    "plt.subplot(1, 2, 1)\n",
    "plt.title(\"Diferencias\")\n",
    "plt.axis(\"off\")\n",
    "plt.imshow(dif, cmap='gray') \n",
    "\n",
    "#Zonas de mayor diferencia tras aplicar umbral\n",
    "res, imgdif = cv2.threshold(dif, 30, 255, cv2.THRESH_BINARY)\n",
    "#Visualiza\n",
    "plt.subplot(1, 2, 2)\n",
    "plt.title(\"Mayores\")\n",
    "plt.axis(\"off\")\n",
    "plt.imshow(imgdif, cmap='gray') \n",
    "plt.show()\n"
   ]
  },
  {
   "cell_type": "markdown",
   "metadata": {},
   "source": [
    "Webcam y sustracción de fotogramas"
   ]
  },
  {
   "cell_type": "code",
   "execution_count": 13,
   "metadata": {},
   "outputs": [],
   "source": [
    "vid = cv2.VideoCapture(0)\n",
    "\n",
    "#Marca de inicio\n",
    "disponible = 0 \n",
    "while(True):      \n",
    "    # fotograma a fotograma\n",
    "    ret, frame = vid.read()\n",
    "\n",
    "    if ret:\n",
    "        if disponible > 0:\n",
    "            dif = cv2.absdiff(frame, pframe)        \n",
    "            # Muestra resultado\n",
    "            cv2.imshow('Diferencia', dif)        \n",
    "\n",
    "        else:\n",
    "            disponible = 1\n",
    "\n",
    "        #Copia fotograma actual para la diferencia en el siguiente forograma\n",
    "        pframe = frame.copy()\n",
    "    # Detenemos pulsado ESC\n",
    "    if cv2.waitKey(20) == 27:\n",
    "        break\n",
    "  \n",
    "# Libera el objeto de captura\n",
    "vid.release()\n",
    "# Destruye ventanas\n",
    "cv2.destroyAllWindows()"
   ]
  },
  {
   "cell_type": "markdown",
   "metadata": {},
   "source": [
    "Webcam y sustracción de modelo del fondo"
   ]
  },
  {
   "cell_type": "code",
   "execution_count": 14,
   "metadata": {},
   "outputs": [],
   "source": [
    "vid = cv2.VideoCapture(0)\n",
    "\n",
    "\n",
    "# Fondo\n",
    "# Inicializa la sustracción del fondo con mezcla de gaussianas y detección de sombras\n",
    "eliminadorFondo = cv2.createBackgroundSubtractorMOG2(history=100, varThreshold=50, detectShadows=True)\n",
    "  \n",
    "\n",
    "\n",
    "while(True):      \n",
    "    # fotograma a fotograma\n",
    "    ret, frame = vid.read()\n",
    "\n",
    "    if ret:\n",
    "        # Aplica efecto espejo sobre la entrada\n",
    "        framem=cv2.flip(frame, 1)\n",
    "\n",
    "        \n",
    "        #Con un segundo parámerto se puede definir máscara con zonas a actualizar\n",
    "        objetos = eliminadorFondo.apply(framem)\n",
    "        #objetos = eliminadorFondo.apply(framem, objetos, 0)  #No actualiza el fondo\n",
    "        # Obtiene fondo\n",
    "        background = eliminadorFondo.getBackgroundImage()\n",
    "\n",
    "        # Muestra resultado\n",
    "        cv2.imshow('Fotograma', objetos)\n",
    "        # Muestra fondo\n",
    "        cv2.imshow('Fondo', background)\n",
    "  \n",
    "   \n",
    "    # Detenemos pulsado ESC\n",
    "    if cv2.waitKey(20) == 27:\n",
    "        break\n",
    "  \n",
    "# Libera el objeto de captura\n",
    "vid.release()\n",
    "# Destruye ventanas\n",
    "cv2.destroyAllWindows()"
   ]
  },
  {
   "cell_type": "markdown",
   "metadata": {},
   "source": [
    "\n",
    "TAREA: Asumiendo que quieren mostrar a personas que no forman parte del curso de VC el comportamiento de una o varias funcioens de las vistas hasta este momento aplicadas sobre la entrada de la webcam. ¿Cuál(es) escogerían?"
   ]
  },
  {
   "cell_type": "markdown",
   "metadata": {},
   "source": [
    "TAREA: Tras ver los vídeos [My little piece of privacy](https://www.niklasroy.com/project/88/my-little-piece-of-privacy), [Messa di voce](https://youtu.be/GfoqiyB1ndE?feature=shared) y [Virtual air guitar](https://youtu.be/FIAmyoEpV5c?feature=shared) propongan (los componentes de cada grupo) una reinterpretación del procesamiento de imágenes con las técnicas vistas o que conozcan."
   ]
  },
  {
   "cell_type": "code",
   "execution_count": 1,
   "metadata": {},
   "outputs": [
    {
     "ename": "ModuleNotFoundError",
     "evalue": "No module named 'mediapipe'",
     "output_type": "error",
     "traceback": [
      "\u001b[0;31m---------------------------------------------------------------------------\u001b[0m",
      "\u001b[0;31mModuleNotFoundError\u001b[0m                       Traceback (most recent call last)",
      "Cell \u001b[0;32mIn[1], line 2\u001b[0m\n\u001b[1;32m      1\u001b[0m \u001b[38;5;28;01mimport\u001b[39;00m \u001b[38;5;21;01mcv2\u001b[39;00m\n\u001b[0;32m----> 2\u001b[0m \u001b[38;5;28;01mimport\u001b[39;00m \u001b[38;5;21;01mmediapipe\u001b[39;00m \u001b[38;5;28;01mas\u001b[39;00m \u001b[38;5;21;01mmp\u001b[39;00m\n\u001b[1;32m      4\u001b[0m mp_hands\u001b[38;5;241m=\u001b[39mmp\u001b[38;5;241m.\u001b[39msolutions\u001b[38;5;241m.\u001b[39mhands\n\u001b[1;32m      5\u001b[0m mp_drawing\u001b[38;5;241m=\u001b[39mmp\u001b[38;5;241m.\u001b[39msolutions\u001b[38;5;241m.\u001b[39mdrawing_utils\n",
      "\u001b[0;31mModuleNotFoundError\u001b[0m: No module named 'mediapipe'"
     ]
    }
   ],
   "source": [
    "import cv2\n",
    "import mediapipe as mp\n",
    "\n",
    "mp_hands=mp.solutions.hands\n",
    "mp_drawing=mp.solutions.drawing_utils\n",
    "\n",
    "webcam = cv2.VideoCapture(0)\n",
    "while webcam.isOpened():\n",
    "    success, img = webcam.read()\n",
    "\n",
    "    # applying hand tracking model\n",
    "    img=cv2.cvtColor(img,cv2.COLOR_BGR2RGB)\n",
    "    results=mp_hands.Hands(max_num_hands=3,min_detection_confidence=0.7,min_tracking_confidence=0.6).process(img)\n",
    "\n",
    "    # draw annotations on the image\n",
    "    img = cv2.cvtColor(img, cv2.COLOR_RGB2BGR)\n",
    "    if results.multi_hand_landmarks:\n",
    "        for hand_landmarks in results.multi_hand_landmarks:\n",
    "            mp_drawing.draw_landmarks(img,hand_landmarks,connections=mp_hands.HAND_CONNECTIONS)\n",
    "\n",
    "    cv2.imshow('Koolac', img)\n",
    "    if cv2.waitKey(5) & 0xFF == ord(\"q\"):\n",
    "        break\n",
    "webcam.release()\n",
    "cv2.destroyAllWindows()"
   ]
  },
  {
   "cell_type": "code",
   "execution_count": null,
   "metadata": {},
   "outputs": [],
   "source": []
  }
 ],
 "metadata": {
  "kernelspec": {
   "display_name": "Python 3 (ipykernel)",
   "language": "python",
   "name": "python3"
  },
  "language_info": {
   "codemirror_mode": {
    "name": "ipython",
    "version": 3
   },
   "file_extension": ".py",
   "mimetype": "text/x-python",
   "name": "python",
   "nbconvert_exporter": "python",
   "pygments_lexer": "ipython3",
   "version": "3.10.12"
  },
  "vscode": {
   "interpreter": {
    "hash": "ea3a1ee99ce326e593ddb52cd278556d527fcb6552c40e2a47b1efb9d0183637"
   }
  }
 },
 "nbformat": 4,
 "nbformat_minor": 2
}
